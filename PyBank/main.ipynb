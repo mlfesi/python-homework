{
 "cells": [
  {
   "cell_type": "code",
   "execution_count": 1,
   "id": "71c72dfc-0de5-427f-82c5-0cc60ac9db34",
   "metadata": {},
   "outputs": [],
   "source": [
    "#In this activity, you are tasked with creating a Python script \n",
    "#for analyzing the financial records of your company. \n",
    "#You will be provided with a financial dataset in this \n",
    "#file: [budget_data.csv](PyBank/Resources/budget_data.csv). \n",
    "#This dataset is composed of two columns, Date and Profit/Losses. \n",
    "#(Thankfully, your company has rather lax standards for accounting, so the records are simple.)\n",
    "\n",
    "#Your task is to create a Python script that analyzes the records to calculate each of the following:\n",
    "\n",
    "#* The total number of months included in the dataset.\n",
    "\n",
    "#* The net total amount of Profit/Losses over the entire period.\n",
    "\n",
    "#* The average of the changes in Profit/Losses over the entire period.\n",
    "\n",
    "#* The greatest increase in profits (date and amount) over the entire period.\n",
    "\n",
    "#* The greatest increase in profits (date and amount) over the entire period.\n",
    "#Your resulting analysis should look similar to the following:\n",
    "\n",
    "#```text\n",
    "  #Financial Analysis\n",
    "  #----------------------------\n",
    "  #Total Months: 86\n",
    "  #Total: $38382578\n",
    "  #Average  Change: $-2315.12\n",
    "  #Greatest Increase in Profits: Feb-2012 ($1926159)\n",
    "  #Greatest Decrease in Profits: Sep-2013 ($-2196167)\n",
    "  #```\n",
    "\n",
    "#Your final script should print the analysis to the terminal and export a text file with the results."
   ]
  },
  {
   "cell_type": "code",
   "execution_count": 2,
   "id": "f30d354b-e9f2-4b33-b84c-d1ddc3077048",
   "metadata": {},
   "outputs": [
    {
     "data": {
      "text/plain": [
       "<bound method NDFrame.head of         Date  Profit/Losses\n",
       "0   Jan-2010         867884\n",
       "1   Feb-2010         984655\n",
       "2   Mar-2010         322013\n",
       "3   Apr-2010         -69417\n",
       "4   May-2010         310503\n",
       "..       ...            ...\n",
       "81  Oct-2016         102685\n",
       "82  Nov-2016         795914\n",
       "83  Dec-2016          60988\n",
       "84  Jan-2017         138230\n",
       "85  Feb-2017         671099\n",
       "\n",
       "[86 rows x 2 columns]>"
      ]
     },
     "execution_count": 2,
     "metadata": {},
     "output_type": "execute_result"
    }
   ],
   "source": [
    "import pandas as pd\n",
    "budget_data = (\"budget_data.csv\")\n",
    "budget_df = pd.read_csv(budget_data)\n",
    "budget_df.head"
   ]
  },
  {
   "cell_type": "code",
   "execution_count": 3,
   "id": "b5992ce2-1e68-4899-896e-f0c7220dc492",
   "metadata": {},
   "outputs": [
    {
     "data": {
      "text/plain": [
       "Date             86\n",
       "Profit/Losses    86\n",
       "dtype: int64"
      ]
     },
     "execution_count": 3,
     "metadata": {},
     "output_type": "execute_result"
    }
   ],
   "source": [
    "#* The total number of months included in the dataset.\n",
    "budget_df.count()"
   ]
  },
  {
   "cell_type": "code",
   "execution_count": 4,
   "id": "2d4719b1-ddc3-49f6-b725-d4c46dca0d4f",
   "metadata": {},
   "outputs": [
    {
     "data": {
      "text/plain": [
       "86"
      ]
     },
     "execution_count": 4,
     "metadata": {},
     "output_type": "execute_result"
    }
   ],
   "source": [
    "month_num=budget_df['Date'].value_counts().sum()\n",
    "month_num"
   ]
  },
  {
   "cell_type": "code",
   "execution_count": 5,
   "id": "245745f3-737c-42e4-b4a6-68da16e7df52",
   "metadata": {},
   "outputs": [
    {
     "name": "stdout",
     "output_type": "stream",
     "text": [
      "There are 86 months of data in the dataset.\n"
     ]
    }
   ],
   "source": [
    "print(\"There are \"+ str(month_num)+ \" months of data in the dataset.\")"
   ]
  },
  {
   "cell_type": "code",
   "execution_count": 6,
   "id": "572640fc-c914-46a2-b608-530c9b1b34d6",
   "metadata": {},
   "outputs": [
    {
     "data": {
      "text/plain": [
       "38382578"
      ]
     },
     "execution_count": 6,
     "metadata": {},
     "output_type": "execute_result"
    }
   ],
   "source": [
    "#* The net total amount of Profit/Losses over the entire period.\n",
    "total = budget_df[\"Profit/Losses\"].sum()\n",
    "total"
   ]
  },
  {
   "cell_type": "code",
   "execution_count": 7,
   "id": "23495dad-81a5-4bfe-8b58-f6f0082d3c10",
   "metadata": {},
   "outputs": [
    {
     "name": "stdout",
     "output_type": "stream",
     "text": [
      "The total amount of Profit/Losses over the entire period were 38382578.\n"
     ]
    }
   ],
   "source": [
    "print(\"The total amount of Profit/Losses over the entire period were \"+str(total)+\".\")"
   ]
  },
  {
   "cell_type": "code",
   "execution_count": 8,
   "id": "a9ce97b7-06b8-43a3-a8e6-d0c8f1db9d7f",
   "metadata": {},
   "outputs": [
    {
     "data": {
      "text/plain": [
       "-0.28671102859649694"
      ]
     },
     "execution_count": 8,
     "metadata": {},
     "output_type": "execute_result"
    }
   ],
   "source": [
    "#* The average of the changes in Profit/Losses over the entire period\n",
    "change = budget_df[\"Profit/Losses\"].pct_change().dropna().mean()\n",
    "change"
   ]
  },
  {
   "cell_type": "code",
   "execution_count": 9,
   "id": "d8fa8102-ba9f-4047-a738-78a7bbf73bc7",
   "metadata": {},
   "outputs": [
    {
     "name": "stdout",
     "output_type": "stream",
     "text": [
      "The average percentage change in Profit/Losses over the period is -0.28671102859649694.\n"
     ]
    }
   ],
   "source": [
    "print(\"The average percentage change in Profit/Losses over the period is \"+ str(change)+\".\")"
   ]
  },
  {
   "cell_type": "code",
   "execution_count": 10,
   "id": "c7484f27-1eea-4c20-888d-1d761fcc061b",
   "metadata": {},
   "outputs": [
    {
     "name": "stdout",
     "output_type": "stream",
     "text": [
      "The greatest profit during the period was 1170593.\n"
     ]
    }
   ],
   "source": [
    "#* The greatest increase in profits (date and amount) over the entire period.\n",
    "greatest_profit = budget_df[\"Profit/Losses\"].max()\n",
    "print(\"The greatest profit during the period was \"+str(greatest_profit)+\".\") "
   ]
  },
  {
   "cell_type": "code",
   "execution_count": 11,
   "id": "a5dbf8a0-72d1-4742-83ed-6a9d8284bdec",
   "metadata": {},
   "outputs": [
    {
     "name": "stdout",
     "output_type": "stream",
     "text": [
      "The greatest Loss in the dataset is -1196225.\n"
     ]
    }
   ],
   "source": [
    "##The greatest decrease in losses (date and amount) over the entire period.\n",
    "greatest_loss = budget_df[\"Profit/Losses\"].min()\n",
    "print(\"The greatest Loss in the dataset is \"+str(greatest_loss)+\".\")"
   ]
  },
  {
   "cell_type": "code",
   "execution_count": 43,
   "id": "aeacc78b-61a1-408d-9a9f-36e23b243042",
   "metadata": {},
   "outputs": [
    {
     "name": "stdout",
     "output_type": "stream",
     "text": [
      "Financial Analysis\n",
      "Total Months: 86\n",
      "Total Profit/Losses: 38382578\n",
      "Percentage Change: -0.28671102859649694\n",
      "Greatest Profit: 1170593\n",
      "Greatest Loss: -1196225\n"
     ]
    }
   ],
   "source": [
    "print(\"Financial Analysis\"\n",
    "    \"\\nTotal Months: \"+str(month_num)+\n",
    "    \"\\nTotal Profit/Losses: \"+str(total)+\n",
    "    \"\\nPercentage Change: \"+str(change)+\n",
    "    \"\\nGreatest Profit: \"+str(greatest_profit)+\n",
    "    \"\\nGreatest Loss: \"+str(greatest_loss)\n",
    ")"
   ]
  },
  {
   "cell_type": "code",
   "execution_count": 1,
   "id": "b06ee3ad-222f-4a88-b25b-33bbb2883180",
   "metadata": {},
   "outputs": [],
   "source": [
    "lines = [\"Total Months: 86\", \"\\nTotal Profit/Losses: 38382578\", \"\\nPercentage Change: -0.28671102859649694\", \"\\nGreatest Profit: 1170593\", \"\\nGreatest Loss: -1196225\" ]\n",
    "with open('output.txt', 'w') as f:\n",
    "    f.writelines(lines)"
   ]
  },
  {
   "cell_type": "code",
   "execution_count": null,
   "id": "70b93dc6-0bb3-4c4c-8237-c890db8577e7",
   "metadata": {},
   "outputs": [],
   "source": []
  }
 ],
 "metadata": {
  "kernelspec": {
   "display_name": "Python 3 (ipykernel)",
   "language": "python",
   "name": "python3"
  },
  "language_info": {
   "codemirror_mode": {
    "name": "ipython",
    "version": 3
   },
   "file_extension": ".py",
   "mimetype": "text/x-python",
   "name": "python",
   "nbconvert_exporter": "python",
   "pygments_lexer": "ipython3",
   "version": "3.8.8"
  }
 },
 "nbformat": 4,
 "nbformat_minor": 5
}
